{
  "nbformat": 4,
  "nbformat_minor": 0,
  "metadata": {
    "kernelspec": {
      "display_name": "Python 3",
      "language": "python",
      "name": "python3"
    },
    "language_info": {
      "codemirror_mode": {
        "name": "ipython",
        "version": 3
      },
      "file_extension": ".py",
      "mimetype": "text/x-python",
      "name": "python",
      "nbconvert_exporter": "python",
      "pygments_lexer": "ipython3",
      "version": "3.6.7"
    },
    "colab": {
      "provenance": []
    }
  },
  "cells": [
    {
      "cell_type": "markdown",
      "metadata": {
        "id": "S5v33WyRCR2S"
      },
      "source": [
        "# Stop Words\n",
        "Stop words are those words that do not contribute to the deeper meaning of the phrase. They are the most common words such as: the, a, and is. For some applications like documentation classification, it may make sense to remove stop words. NLTK provides a list of commonly agreed upon stop words for a variety of languages, such as English.."
      ]
    },
    {
      "cell_type": "code",
      "metadata": {
        "id": "yqCilyYOhaHh"
      },
      "source": [],
      "execution_count": 3,
      "outputs": []
    },
    {
      "cell_type": "code",
      "metadata": {
        "id": "M1ehwqoXCR2T"
      },
      "source": [
        "# Perform standard imports:\n",
        "import spacy\n",
        "nlp = spacy.load('en_core_web_sm')"
      ],
      "execution_count": 4,
      "outputs": []
    },
    {
      "cell_type": "code",
      "metadata": {
        "id": "0PZAtJwgCVNo",
        "colab": {
          "base_uri": "https://localhost:8080/"
        },
        "outputId": "e9588b30-6ef4-4ad5-947c-daa18426e55a"
      },
      "source": [
        "import nltk\n",
        "nltk.download('stopwords')"
      ],
      "execution_count": 5,
      "outputs": [
        {
          "output_type": "stream",
          "name": "stderr",
          "text": [
            "[nltk_data] Downloading package stopwords to /root/nltk_data...\n",
            "[nltk_data]   Unzipping corpora/stopwords.zip.\n"
          ]
        },
        {
          "output_type": "execute_result",
          "data": {
            "text/plain": [
              "True"
            ]
          },
          "metadata": {},
          "execution_count": 5
        }
      ]
    },
    {
      "cell_type": "code",
      "metadata": {
        "id": "O3drpJkBCR2Z",
        "colab": {
          "base_uri": "https://localhost:8080/"
        },
        "outputId": "92a051c9-8b78-4fff-fe29-d35aa08a72f4"
      },
      "source": [
        "# Print the set of spaCy's default stop words (remember that sets are unordered):\n",
        "print(nlp.Defaults.stop_words)"
      ],
      "execution_count": 6,
      "outputs": [
        {
          "output_type": "stream",
          "name": "stdout",
          "text": [
            "{'nine', 'some', 'anything', 'first', 'anyway', 'three', 'along', 'formerly', 'either', 'last', 'those', 'anywhere', 'latter', 'should', 'them', 'ten', 'these', 'towards', 'five', 'back', 'everything', 'under', 'once', 'each', 'together', \"'re\", 'an', 'same', 'below', 'did', 'all', 'been', 'to', 'would', 'therein', \"'s\", 'hers', 'part', 'something', 'because', 'none', 'which', 'please', 'say', 'there', 'whenever', 'though', 'this', 'than', 'then', '’ve', 'is', 'other', 'wherever', 'as', 'whoever', 'not', 'became', 'be', 'even', 'make', 'onto', 'everyone', 'per', 'your', 'nobody', 'if', 'being', 'almost', 'seemed', 'perhaps', 'thence', \"'m\", 'others', 'twenty', 'any', 'eight', 'whereupon', 'eleven', 'ever', 'become', 'n‘t', 'will', 'us', 'off', 'done', 'have', 'yourself', 'throughout', 'since', 'our', 'their', 'bottom', 'quite', '‘m', 'becomes', '’d', 'nothing', 'whereby', 'via', 're', 'n’t', 'hereupon', 'thereafter', 'never', 'elsewhere', 'most', 'the', 'cannot', 'about', 'can', 'enough', 'when', 'two', 'seem', 'amount', 'also', 'itself', 'whereas', 'really', 'in', 'forty', 'much', 'former', 'somewhere', '’s', 'put', 'keep', 'out', 'unless', \"'ll\", 'alone', 'another', 'more', 'sometimes', 'ca', 'a', 'up', 'behind', 'whatever', '’re', 'themselves', 'at', 'here', '‘ve', 'fifty', 'seems', 'myself', 'seeming', 'over', '’m', 'rather', 'she', 'nor', 'where', 'herein', 'across', 'full', 'mostly', 'sixty', 'now', 'ourselves', 'against', 'are', 'latterly', 'namely', 'while', 'am', 'every', 'too', 'further', 'hereafter', 'already', 'could', 'nevertheless', 'so', 'do', 'such', 'it', 'of', 'who', 'from', 'someone', 'what', 'and', \"n't\", 'around', 'down', 'everywhere', 'but', 'twelve', 'one', 'indeed', 'wherein', 'my', 'else', 'must', 'amongst', 'name', 'on', 'whence', 'using', 'go', 'becoming', 'himself', 'hundred', 'again', 'often', 'neither', 'meanwhile', 'within', 'anyone', 'whither', 'own', '‘re', 'hereby', 'between', 'yet', 'side', 'you', 'regarding', 'sometime', 'serious', 'both', 'he', 'only', 'still', '‘ll', 'hence', '’ll', 'take', 'afterwards', 'him', 'many', 'whether', 'noone', 'whereafter', '‘d', 'had', 'may', 'least', 'ours', 'no', \"'ve\", 'whose', 'were', 'somehow', 'see', 'beside', 'that', 'after', 'therefore', 'thereby', 'front', 'nowhere', 'less', 'thru', 'few', 'was', 'otherwise', 'until', 'might', 'due', 'whom', 'four', 'has', 'although', 'they', '‘s', 'anyhow', 'thus', 'into', 'why', 'always', 'various', 'its', 'with', 'among', 'for', 'moreover', 'very', 'herself', 'mine', 'how', 'besides', 'above', 'yourselves', 'well', 'call', 'his', 'however', 'beforehand', 'give', 'by', 'third', 'does', 'during', 'we', 'several', 'top', 'upon', 'move', 'show', 'yours', 'beyond', 'just', 'thereupon', 'before', 'next', 'through', 'empty', 'i', 'made', 'without', 'her', 'except', 'doing', 'whole', 'six', 'fifteen', \"'d\", 'used', 'get', 'toward', 'or', 'me'}\n"
          ]
        }
      ]
    },
    {
      "cell_type": "code",
      "metadata": {
        "id": "diWTTaRICR2g",
        "colab": {
          "base_uri": "https://localhost:8080/"
        },
        "outputId": "f3ba724c-2411-4fd7-ac97-1e561073ca38"
      },
      "source": [
        "len(nlp.Defaults.stop_words)"
      ],
      "execution_count": 7,
      "outputs": [
        {
          "output_type": "execute_result",
          "data": {
            "text/plain": [
              "326"
            ]
          },
          "metadata": {},
          "execution_count": 7
        }
      ]
    },
    {
      "cell_type": "markdown",
      "metadata": {
        "id": "tWu19KsbCR2k"
      },
      "source": [
        "## To see if a word is a stop word"
      ]
    },
    {
      "cell_type": "code",
      "metadata": {
        "id": "Sxj_JjAdCR2k",
        "colab": {
          "base_uri": "https://localhost:8080/"
        },
        "outputId": "60d0e916-cf0f-443a-df50-9235daabe11a"
      },
      "source": [
        "nlp.vocab['myself'].is_stop"
      ],
      "execution_count": 8,
      "outputs": [
        {
          "output_type": "execute_result",
          "data": {
            "text/plain": [
              "True"
            ]
          },
          "metadata": {},
          "execution_count": 8
        }
      ]
    },
    {
      "cell_type": "code",
      "metadata": {
        "id": "Ep_V7bnOCR2o",
        "colab": {
          "base_uri": "https://localhost:8080/"
        },
        "outputId": "be231fec-14bf-4e8a-fd83-4472a9fdeb7f"
      },
      "source": [
        "nlp.vocab['mystery'].is_stop"
      ],
      "execution_count": 9,
      "outputs": [
        {
          "output_type": "execute_result",
          "data": {
            "text/plain": [
              "False"
            ]
          },
          "metadata": {},
          "execution_count": 9
        }
      ]
    },
    {
      "cell_type": "code",
      "source": [
        "#add"
      ],
      "metadata": {
        "id": "5t8S5XBYhtnY"
      },
      "execution_count": null,
      "outputs": []
    },
    {
      "cell_type": "code",
      "metadata": {
        "id": "U1vIs64dCR2t"
      },
      "source": [
        "# Add the word to the set of stop words. Use lowercase!\n",
        "nlp.Defaults.stop_words.add('mystery')"
      ],
      "execution_count": 10,
      "outputs": []
    },
    {
      "cell_type": "code",
      "metadata": {
        "id": "SQnVv6JEiqHC"
      },
      "source": [
        "# Set the stop_word tag on the lexeme\n",
        "nlp.vocab['mystery'].is_stop = True"
      ],
      "execution_count": 11,
      "outputs": []
    },
    {
      "cell_type": "code",
      "metadata": {
        "id": "IO-WF_1mCR2x",
        "colab": {
          "base_uri": "https://localhost:8080/"
        },
        "outputId": "aa32c307-09a7-4839-8abe-37a6bba68658"
      },
      "source": [
        "len(nlp.Defaults.stop_words)"
      ],
      "execution_count": 12,
      "outputs": [
        {
          "output_type": "execute_result",
          "data": {
            "text/plain": [
              "327"
            ]
          },
          "metadata": {},
          "execution_count": 12
        }
      ]
    },
    {
      "cell_type": "code",
      "metadata": {
        "id": "oMMCzOUACR21",
        "colab": {
          "base_uri": "https://localhost:8080/"
        },
        "outputId": "18ac01b5-c621-4009-c26a-d7987b5bec76"
      },
      "source": [
        "nlp.vocab['mystery'].is_stop"
      ],
      "execution_count": 13,
      "outputs": [
        {
          "output_type": "execute_result",
          "data": {
            "text/plain": [
              "True"
            ]
          },
          "metadata": {},
          "execution_count": 13
        }
      ]
    },
    {
      "cell_type": "markdown",
      "metadata": {
        "id": "p58rPB42CR24"
      },
      "source": [
        "## To remove a stop word\n",
        "Alternatively, you may decide that `'beyond'` should not be considered a stop word."
      ]
    },
    {
      "cell_type": "code",
      "metadata": {
        "id": "0KEtYBNRCR25"
      },
      "source": [
        "# Remove the word from the set of stop words\n",
        "nlp.Defaults.stop_words.remove('beyond')\n",
        "\n",
        "# Remove the stop_word tag from the lexeme\n",
        "nlp.vocab['beyond'].is_stop = False"
      ],
      "execution_count": 14,
      "outputs": []
    },
    {
      "cell_type": "code",
      "metadata": {
        "id": "iQr5IK3CCR28",
        "colab": {
          "base_uri": "https://localhost:8080/"
        },
        "outputId": "d4ae146c-d66c-4f7b-f44d-4e6c4ecfbde1"
      },
      "source": [
        "len(nlp.Defaults.stop_words)"
      ],
      "execution_count": 15,
      "outputs": [
        {
          "output_type": "execute_result",
          "data": {
            "text/plain": [
              "326"
            ]
          },
          "metadata": {},
          "execution_count": 15
        }
      ]
    },
    {
      "cell_type": "code",
      "metadata": {
        "id": "ZLnWlnDQCR2_",
        "colab": {
          "base_uri": "https://localhost:8080/"
        },
        "outputId": "f4cfff93-81e2-4172-df7e-33a970f408cc"
      },
      "source": [
        "nlp.vocab['beyond'].is_stop"
      ],
      "execution_count": 16,
      "outputs": [
        {
          "output_type": "execute_result",
          "data": {
            "text/plain": [
              "False"
            ]
          },
          "metadata": {},
          "execution_count": 16
        }
      ]
    },
    {
      "cell_type": "code",
      "metadata": {
        "id": "TCyp1UmXCxgJ",
        "colab": {
          "base_uri": "https://localhost:8080/"
        },
        "outputId": "42fe6e40-7f25-497c-d6ae-e2aea649f868"
      },
      "source": [
        "import string\n",
        "import re\n",
        "import nltk\n",
        "nltk.download('punkt')\n",
        "from nltk import word_tokenize,sent_tokenize\n",
        "from nltk.corpus import stopwords\n",
        "# load data\n",
        "text = 'The Quick brown fox jump over the lazy dog!'"
      ],
      "execution_count": 17,
      "outputs": [
        {
          "output_type": "stream",
          "name": "stderr",
          "text": [
            "[nltk_data] Downloading package punkt to /root/nltk_data...\n",
            "[nltk_data]   Unzipping tokenizers/punkt.zip.\n"
          ]
        }
      ]
    },
    {
      "cell_type": "code",
      "metadata": {
        "id": "pehkONOeDPd-",
        "colab": {
          "base_uri": "https://localhost:8080/"
        },
        "outputId": "19e05d10-b5c8-457e-e2ef-c5f626a3f5b5"
      },
      "source": [
        "# split into words\n",
        "tokens = word_tokenize(text)\n",
        "print(tokens)"
      ],
      "execution_count": 18,
      "outputs": [
        {
          "output_type": "stream",
          "name": "stdout",
          "text": [
            "['The', 'Quick', 'brown', 'fox', 'jump', 'over', 'the', 'lazy', 'dog', '!']\n"
          ]
        }
      ]
    },
    {
      "cell_type": "code",
      "metadata": {
        "id": "K0zTYJKID--l",
        "colab": {
          "base_uri": "https://localhost:8080/"
        },
        "outputId": "80694584-8c36-49e8-fc71-36d82bdab8f4"
      },
      "source": [
        "# convert to lower case\n",
        "tokens = [w.lower() for w in tokens]\n",
        "print(tokens)"
      ],
      "execution_count": 19,
      "outputs": [
        {
          "output_type": "stream",
          "name": "stdout",
          "text": [
            "['the', 'quick', 'brown', 'fox', 'jump', 'over', 'the', 'lazy', 'dog', '!']\n"
          ]
        }
      ]
    },
    {
      "cell_type": "code",
      "metadata": {
        "id": "PXAJpO5hEEcj",
        "colab": {
          "base_uri": "https://localhost:8080/"
        },
        "outputId": "88f4fb48-0805-411c-8444-e0858090a144"
      },
      "source": [
        "# prepare regex for char filtering\n",
        "re_punc = re.compile('[%s]' % re.escape(string.punctuation))\n",
        "print(re_punc)"
      ],
      "execution_count": 20,
      "outputs": [
        {
          "output_type": "stream",
          "name": "stdout",
          "text": [
            "re.compile('[!\"\\\\#\\\\$%\\\\&\\'\\\\(\\\\)\\\\*\\\\+,\\\\-\\\\./:;<=>\\\\?@\\\\[\\\\\\\\\\\\]\\\\^_`\\\\{\\\\|\\\\}\\\\~]')\n"
          ]
        }
      ]
    },
    {
      "cell_type": "code",
      "metadata": {
        "id": "IRupmyA-EF7z",
        "colab": {
          "base_uri": "https://localhost:8080/"
        },
        "outputId": "a4643a8b-b24c-4c6a-ee58-0f6088cfdcac"
      },
      "source": [
        "# remove punctuation from each word\n",
        "stripped = [re_punc.sub('', w) for w in tokens]\n",
        "print(stripped)"
      ],
      "execution_count": 21,
      "outputs": [
        {
          "output_type": "stream",
          "name": "stdout",
          "text": [
            "['the', 'quick', 'brown', 'fox', 'jump', 'over', 'the', 'lazy', 'dog', '']\n"
          ]
        }
      ]
    },
    {
      "cell_type": "code",
      "metadata": {
        "id": "c0__AkhWEHPT",
        "colab": {
          "base_uri": "https://localhost:8080/"
        },
        "outputId": "007037c6-3a6d-4d04-aad9-4a754fdcb471"
      },
      "source": [
        "# remove remaining tokens that are not alphabetic\n",
        "words = [word for word in stripped if word.isalpha()]\n",
        "print(words)"
      ],
      "execution_count": 22,
      "outputs": [
        {
          "output_type": "stream",
          "name": "stdout",
          "text": [
            "['the', 'quick', 'brown', 'fox', 'jump', 'over', 'the', 'lazy', 'dog']\n"
          ]
        }
      ]
    },
    {
      "cell_type": "code",
      "metadata": {
        "id": "6WYqyINsEIhD",
        "colab": {
          "base_uri": "https://localhost:8080/"
        },
        "outputId": "9a674575-7309-4c59-d336-912604d715ae"
      },
      "source": [
        "# filter out non-stop words\n",
        "stop_words = set(stopwords.words('english'))\n",
        "words = [w for w in words if not w in stop_words]\n",
        "print(words)"
      ],
      "execution_count": 25,
      "outputs": [
        {
          "output_type": "stream",
          "name": "stdout",
          "text": [
            "['quick', 'brown', 'fox', 'jump', 'lazy', 'dog']\n"
          ]
        }
      ]
    },
    {
      "cell_type": "code",
      "source": [
        "stop=set(stopwords.words(\"english\"))\n",
        "words=[w for w in words if not w in stop]\n",
        "print (words)"
      ],
      "metadata": {
        "colab": {
          "base_uri": "https://localhost:8080/"
        },
        "id": "tcma7CPdoMR_",
        "outputId": "8b976550-16fc-4859-88d5-80591706fcd1"
      },
      "execution_count": 26,
      "outputs": [
        {
          "output_type": "stream",
          "name": "stdout",
          "text": [
            "['quick', 'brown', 'fox', 'jump', 'lazy', 'dog']\n"
          ]
        }
      ]
    },
    {
      "cell_type": "code",
      "metadata": {
        "id": "2DdtvLMggo4P",
        "colab": {
          "base_uri": "https://localhost:8080/"
        },
        "outputId": "62c3f6e3-4353-4fd1-d07c-75f0a1fd3fc6"
      },
      "source": [
        "nlp.vocab['dog'].is_stop"
      ],
      "execution_count": 24,
      "outputs": [
        {
          "output_type": "execute_result",
          "data": {
            "text/plain": [
              "False"
            ]
          },
          "metadata": {},
          "execution_count": 24
        }
      ]
    },
    {
      "cell_type": "code",
      "metadata": {
        "id": "khKxrWYhgp1P"
      },
      "source": [],
      "execution_count": 24,
      "outputs": []
    }
  ]
}